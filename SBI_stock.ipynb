{
 "cells": [
  {
   "cell_type": "code",
   "execution_count": 59,
   "id": "cd55ef60-adfe-40f4-9f15-7e6a22867d65",
   "metadata": {},
   "outputs": [],
   "source": [
    "# import the libraries \n",
    "import pandas as pd \n",
    "import numpy as np\n",
    "import datetime\n",
    "import matplotlib.pyplot as plt "
   ]
  },
  {
   "cell_type": "code",
   "execution_count": 60,
   "id": "cbd4b818-7d71-472e-9500-c5c2867945db",
   "metadata": {},
   "outputs": [],
   "source": [
    "# import the dataset\n",
    "dataset = pd.read_csv('SBIN_data.csv')"
   ]
  },
  {
   "cell_type": "code",
   "execution_count": 61,
   "id": "4a597e43-70da-4e44-b103-43c9145f33c2",
   "metadata": {},
   "outputs": [
    {
     "data": {
      "text/html": [
       "<div>\n",
       "<style scoped>\n",
       "    .dataframe tbody tr th:only-of-type {\n",
       "        vertical-align: middle;\n",
       "    }\n",
       "\n",
       "    .dataframe tbody tr th {\n",
       "        vertical-align: top;\n",
       "    }\n",
       "\n",
       "    .dataframe thead th {\n",
       "        text-align: right;\n",
       "    }\n",
       "</style>\n",
       "<table border=\"1\" class=\"dataframe\">\n",
       "  <thead>\n",
       "    <tr style=\"text-align: right;\">\n",
       "      <th></th>\n",
       "      <th>Date</th>\n",
       "      <th>Open</th>\n",
       "      <th>High</th>\n",
       "      <th>Low</th>\n",
       "      <th>Close</th>\n",
       "      <th>Volume</th>\n",
       "      <th>Time</th>\n",
       "    </tr>\n",
       "  </thead>\n",
       "  <tbody>\n",
       "    <tr>\n",
       "      <th>0</th>\n",
       "      <td>01-01-2024</td>\n",
       "      <td>642.20</td>\n",
       "      <td>642.70</td>\n",
       "      <td>641.00</td>\n",
       "      <td>641.95</td>\n",
       "      <td>89481</td>\n",
       "      <td>09:15:00</td>\n",
       "    </tr>\n",
       "    <tr>\n",
       "      <th>1</th>\n",
       "      <td>01-01-2024</td>\n",
       "      <td>641.95</td>\n",
       "      <td>642.85</td>\n",
       "      <td>641.95</td>\n",
       "      <td>642.45</td>\n",
       "      <td>48965</td>\n",
       "      <td>09:16:00</td>\n",
       "    </tr>\n",
       "    <tr>\n",
       "      <th>2</th>\n",
       "      <td>01-01-2024</td>\n",
       "      <td>642.70</td>\n",
       "      <td>644.00</td>\n",
       "      <td>642.70</td>\n",
       "      <td>643.50</td>\n",
       "      <td>65729</td>\n",
       "      <td>09:17:00</td>\n",
       "    </tr>\n",
       "    <tr>\n",
       "      <th>3</th>\n",
       "      <td>01-01-2024</td>\n",
       "      <td>643.90</td>\n",
       "      <td>644.55</td>\n",
       "      <td>643.30</td>\n",
       "      <td>643.40</td>\n",
       "      <td>47909</td>\n",
       "      <td>09:18:00</td>\n",
       "    </tr>\n",
       "    <tr>\n",
       "      <th>4</th>\n",
       "      <td>01-01-2024</td>\n",
       "      <td>643.70</td>\n",
       "      <td>644.10</td>\n",
       "      <td>643.45</td>\n",
       "      <td>643.75</td>\n",
       "      <td>27645</td>\n",
       "      <td>09:19:00</td>\n",
       "    </tr>\n",
       "    <tr>\n",
       "      <th>...</th>\n",
       "      <td>...</td>\n",
       "      <td>...</td>\n",
       "      <td>...</td>\n",
       "      <td>...</td>\n",
       "      <td>...</td>\n",
       "      <td>...</td>\n",
       "      <td>...</td>\n",
       "    </tr>\n",
       "    <tr>\n",
       "      <th>8245</th>\n",
       "      <td>31-01-2024</td>\n",
       "      <td>642.90</td>\n",
       "      <td>642.90</td>\n",
       "      <td>642.50</td>\n",
       "      <td>642.80</td>\n",
       "      <td>161605</td>\n",
       "      <td>15:25:00</td>\n",
       "    </tr>\n",
       "    <tr>\n",
       "      <th>8246</th>\n",
       "      <td>31-01-2024</td>\n",
       "      <td>642.90</td>\n",
       "      <td>642.95</td>\n",
       "      <td>642.50</td>\n",
       "      <td>642.90</td>\n",
       "      <td>143774</td>\n",
       "      <td>15:26:00</td>\n",
       "    </tr>\n",
       "    <tr>\n",
       "      <th>8247</th>\n",
       "      <td>31-01-2024</td>\n",
       "      <td>642.95</td>\n",
       "      <td>643.05</td>\n",
       "      <td>642.45</td>\n",
       "      <td>642.50</td>\n",
       "      <td>166278</td>\n",
       "      <td>15:27:00</td>\n",
       "    </tr>\n",
       "    <tr>\n",
       "      <th>8248</th>\n",
       "      <td>31-01-2024</td>\n",
       "      <td>642.50</td>\n",
       "      <td>642.65</td>\n",
       "      <td>641.40</td>\n",
       "      <td>641.70</td>\n",
       "      <td>138018</td>\n",
       "      <td>15:28:00</td>\n",
       "    </tr>\n",
       "    <tr>\n",
       "      <th>8249</th>\n",
       "      <td>31-01-2024</td>\n",
       "      <td>641.70</td>\n",
       "      <td>641.80</td>\n",
       "      <td>641.00</td>\n",
       "      <td>641.55</td>\n",
       "      <td>54342</td>\n",
       "      <td>15:29:00</td>\n",
       "    </tr>\n",
       "  </tbody>\n",
       "</table>\n",
       "<p>8250 rows × 7 columns</p>\n",
       "</div>"
      ],
      "text/plain": [
       "            Date    Open    High     Low   Close  Volume      Time\n",
       "0     01-01-2024  642.20  642.70  641.00  641.95   89481  09:15:00\n",
       "1     01-01-2024  641.95  642.85  641.95  642.45   48965  09:16:00\n",
       "2     01-01-2024  642.70  644.00  642.70  643.50   65729  09:17:00\n",
       "3     01-01-2024  643.90  644.55  643.30  643.40   47909  09:18:00\n",
       "4     01-01-2024  643.70  644.10  643.45  643.75   27645  09:19:00\n",
       "...          ...     ...     ...     ...     ...     ...       ...\n",
       "8245  31-01-2024  642.90  642.90  642.50  642.80  161605  15:25:00\n",
       "8246  31-01-2024  642.90  642.95  642.50  642.90  143774  15:26:00\n",
       "8247  31-01-2024  642.95  643.05  642.45  642.50  166278  15:27:00\n",
       "8248  31-01-2024  642.50  642.65  641.40  641.70  138018  15:28:00\n",
       "8249  31-01-2024  641.70  641.80  641.00  641.55   54342  15:29:00\n",
       "\n",
       "[8250 rows x 7 columns]"
      ]
     },
     "execution_count": 61,
     "metadata": {},
     "output_type": "execute_result"
    }
   ],
   "source": [
    "dataset"
   ]
  },
  {
   "cell_type": "code",
   "execution_count": 62,
   "id": "f6a38d91-d5e4-4559-bb38-27b090a7bcab",
   "metadata": {
    "scrolled": true
   },
   "outputs": [
    {
     "data": {
      "text/plain": [
       "21382"
      ]
     },
     "execution_count": 62,
     "metadata": {},
     "output_type": "execute_result"
    }
   ],
   "source": [
    "dataset.iloc[7874,5]"
   ]
  },
  {
   "cell_type": "code",
   "execution_count": 63,
   "id": "6d93cd88-4e60-4601-a174-181ef7f5f9b5",
   "metadata": {},
   "outputs": [
    {
     "name": "stderr",
     "output_type": "stream",
     "text": [
      "C:\\conda_tmp\\ipykernel_6324\\722465042.py:4: UserWarning: Parsing dates in DD/MM/YYYY format when dayfirst=False (the default) was specified. This may lead to inconsistently parsed dates! Specify a format to ensure consistent parsing.\n",
      "  dataset['Date'] = pd.to_datetime(dataset['Date']).dt.date\n"
     ]
    }
   ],
   "source": [
    "# In the data set all the date and time are read as a string object  \n",
    "# so we need to convert the date and time into a datetime data \n",
    "# to_datetime() converts the date time into date\n",
    "dataset['Date'] = pd.to_datetime(dataset['Date']).dt.date \n",
    "dataset['Time'] = pd.to_datetime(dataset['Time'],format='%H:%M:%S').dt.time"
   ]
  },
  {
   "cell_type": "code",
   "execution_count": 64,
   "id": "22cdf69d-0ff7-4f8a-87c2-88e939e4da93",
   "metadata": {},
   "outputs": [
    {
     "data": {
      "text/html": [
       "<div>\n",
       "<style scoped>\n",
       "    .dataframe tbody tr th:only-of-type {\n",
       "        vertical-align: middle;\n",
       "    }\n",
       "\n",
       "    .dataframe tbody tr th {\n",
       "        vertical-align: top;\n",
       "    }\n",
       "\n",
       "    .dataframe thead th {\n",
       "        text-align: right;\n",
       "    }\n",
       "</style>\n",
       "<table border=\"1\" class=\"dataframe\">\n",
       "  <thead>\n",
       "    <tr style=\"text-align: right;\">\n",
       "      <th></th>\n",
       "      <th>Date</th>\n",
       "      <th>Open</th>\n",
       "      <th>High</th>\n",
       "      <th>Low</th>\n",
       "      <th>Close</th>\n",
       "      <th>Volume</th>\n",
       "      <th>Time</th>\n",
       "    </tr>\n",
       "  </thead>\n",
       "  <tbody>\n",
       "    <tr>\n",
       "      <th>0</th>\n",
       "      <td>2024-01-01</td>\n",
       "      <td>642.20</td>\n",
       "      <td>642.70</td>\n",
       "      <td>641.00</td>\n",
       "      <td>641.95</td>\n",
       "      <td>89481</td>\n",
       "      <td>09:15:00</td>\n",
       "    </tr>\n",
       "    <tr>\n",
       "      <th>1</th>\n",
       "      <td>2024-01-01</td>\n",
       "      <td>641.95</td>\n",
       "      <td>642.85</td>\n",
       "      <td>641.95</td>\n",
       "      <td>642.45</td>\n",
       "      <td>48965</td>\n",
       "      <td>09:16:00</td>\n",
       "    </tr>\n",
       "    <tr>\n",
       "      <th>2</th>\n",
       "      <td>2024-01-01</td>\n",
       "      <td>642.70</td>\n",
       "      <td>644.00</td>\n",
       "      <td>642.70</td>\n",
       "      <td>643.50</td>\n",
       "      <td>65729</td>\n",
       "      <td>09:17:00</td>\n",
       "    </tr>\n",
       "    <tr>\n",
       "      <th>3</th>\n",
       "      <td>2024-01-01</td>\n",
       "      <td>643.90</td>\n",
       "      <td>644.55</td>\n",
       "      <td>643.30</td>\n",
       "      <td>643.40</td>\n",
       "      <td>47909</td>\n",
       "      <td>09:18:00</td>\n",
       "    </tr>\n",
       "    <tr>\n",
       "      <th>4</th>\n",
       "      <td>2024-01-01</td>\n",
       "      <td>643.70</td>\n",
       "      <td>644.10</td>\n",
       "      <td>643.45</td>\n",
       "      <td>643.75</td>\n",
       "      <td>27645</td>\n",
       "      <td>09:19:00</td>\n",
       "    </tr>\n",
       "    <tr>\n",
       "      <th>...</th>\n",
       "      <td>...</td>\n",
       "      <td>...</td>\n",
       "      <td>...</td>\n",
       "      <td>...</td>\n",
       "      <td>...</td>\n",
       "      <td>...</td>\n",
       "      <td>...</td>\n",
       "    </tr>\n",
       "    <tr>\n",
       "      <th>8245</th>\n",
       "      <td>2024-01-31</td>\n",
       "      <td>642.90</td>\n",
       "      <td>642.90</td>\n",
       "      <td>642.50</td>\n",
       "      <td>642.80</td>\n",
       "      <td>161605</td>\n",
       "      <td>15:25:00</td>\n",
       "    </tr>\n",
       "    <tr>\n",
       "      <th>8246</th>\n",
       "      <td>2024-01-31</td>\n",
       "      <td>642.90</td>\n",
       "      <td>642.95</td>\n",
       "      <td>642.50</td>\n",
       "      <td>642.90</td>\n",
       "      <td>143774</td>\n",
       "      <td>15:26:00</td>\n",
       "    </tr>\n",
       "    <tr>\n",
       "      <th>8247</th>\n",
       "      <td>2024-01-31</td>\n",
       "      <td>642.95</td>\n",
       "      <td>643.05</td>\n",
       "      <td>642.45</td>\n",
       "      <td>642.50</td>\n",
       "      <td>166278</td>\n",
       "      <td>15:27:00</td>\n",
       "    </tr>\n",
       "    <tr>\n",
       "      <th>8248</th>\n",
       "      <td>2024-01-31</td>\n",
       "      <td>642.50</td>\n",
       "      <td>642.65</td>\n",
       "      <td>641.40</td>\n",
       "      <td>641.70</td>\n",
       "      <td>138018</td>\n",
       "      <td>15:28:00</td>\n",
       "    </tr>\n",
       "    <tr>\n",
       "      <th>8249</th>\n",
       "      <td>2024-01-31</td>\n",
       "      <td>641.70</td>\n",
       "      <td>641.80</td>\n",
       "      <td>641.00</td>\n",
       "      <td>641.55</td>\n",
       "      <td>54342</td>\n",
       "      <td>15:29:00</td>\n",
       "    </tr>\n",
       "  </tbody>\n",
       "</table>\n",
       "<p>8250 rows × 7 columns</p>\n",
       "</div>"
      ],
      "text/plain": [
       "            Date    Open    High     Low   Close  Volume      Time\n",
       "0     2024-01-01  642.20  642.70  641.00  641.95   89481  09:15:00\n",
       "1     2024-01-01  641.95  642.85  641.95  642.45   48965  09:16:00\n",
       "2     2024-01-01  642.70  644.00  642.70  643.50   65729  09:17:00\n",
       "3     2024-01-01  643.90  644.55  643.30  643.40   47909  09:18:00\n",
       "4     2024-01-01  643.70  644.10  643.45  643.75   27645  09:19:00\n",
       "...          ...     ...     ...     ...     ...     ...       ...\n",
       "8245  2024-01-31  642.90  642.90  642.50  642.80  161605  15:25:00\n",
       "8246  2024-01-31  642.90  642.95  642.50  642.90  143774  15:26:00\n",
       "8247  2024-01-31  642.95  643.05  642.45  642.50  166278  15:27:00\n",
       "8248  2024-01-31  642.50  642.65  641.40  641.70  138018  15:28:00\n",
       "8249  2024-01-31  641.70  641.80  641.00  641.55   54342  15:29:00\n",
       "\n",
       "[8250 rows x 7 columns]"
      ]
     },
     "execution_count": 64,
     "metadata": {},
     "output_type": "execute_result"
    }
   ],
   "source": [
    "dataset"
   ]
  },
  {
   "cell_type": "code",
   "execution_count": 65,
   "id": "c664c110-2ade-4988-9803-551952f6b953",
   "metadata": {},
   "outputs": [],
   "source": [
    "# Create a new column 'Rank' which will store the ranks of each datapoint\n",
    "dataset['Rank'] = np.nan"
   ]
  },
  {
   "cell_type": "code",
   "execution_count": 66,
   "id": "dde208f7-3c59-499b-8e0f-9e61c8d4153d",
   "metadata": {},
   "outputs": [
    {
     "name": "stdout",
     "output_type": "stream",
     "text": [
      "            Date    Open    High     Low   Close  Volume      Time  Rank\n",
      "0     2024-01-01  642.20  642.70  641.00  641.95   89481  09:15:00   NaN\n",
      "1     2024-01-01  641.95  642.85  641.95  642.45   48965  09:16:00   NaN\n",
      "2     2024-01-01  642.70  644.00  642.70  643.50   65729  09:17:00   NaN\n",
      "3     2024-01-01  643.90  644.55  643.30  643.40   47909  09:18:00   NaN\n",
      "4     2024-01-01  643.70  644.10  643.45  643.75   27645  09:19:00   NaN\n",
      "...          ...     ...     ...     ...     ...     ...       ...   ...\n",
      "8245  2024-01-31  642.90  642.90  642.50  642.80  161605  15:25:00   NaN\n",
      "8246  2024-01-31  642.90  642.95  642.50  642.90  143774  15:26:00   NaN\n",
      "8247  2024-01-31  642.95  643.05  642.45  642.50  166278  15:27:00   NaN\n",
      "8248  2024-01-31  642.50  642.65  641.40  641.70  138018  15:28:00   NaN\n",
      "8249  2024-01-31  641.70  641.80  641.00  641.55   54342  15:29:00   NaN\n",
      "\n",
      "[8250 rows x 8 columns]\n"
     ]
    }
   ],
   "source": [
    "print(dataset)"
   ]
  },
  {
   "cell_type": "code",
   "execution_count": 67,
   "id": "784f731d-fcd8-4669-87b6-88b90c9e8892",
   "metadata": {},
   "outputs": [],
   "source": [
    "# create the rank of every datapoint \n",
    "# loop will contine from last row to 1st row and calculate the rank for every minutes of a each day\n",
    "for i in range (8249,-1,-1):\n",
    "    vol_list = []                                 # list of volumes for currect day and previous 5 days \n",
    "    vol_list.append(dataset.iloc[i,5])           \n",
    "    current_row = i\n",
    "\n",
    "    # check the previous 5 days volume and store into the list\n",
    "    for j in range (0,5):\n",
    "        current_row -= 375\n",
    "        if(current_row >= 0):\n",
    "            vol_list.append(dataset.iloc[current_row,5])\n",
    "\n",
    "    # convert the list of volume into a dataframe to rank them according to their volume\n",
    "    vol_series = pd.Series(vol_list)\n",
    "    \n",
    "    # Calculate rank based on volume\n",
    "    vol_rank = vol_series.rank(ascending=False, method='min').astype(int)\n",
    "\n",
    "    # put the rank of the datapoint into rank column\n",
    "    dataset.iloc[i,7] = vol_rank[0]        "
   ]
  },
  {
   "cell_type": "code",
   "execution_count": 68,
   "id": "b40164d5-072c-41e3-8edf-41967a782349",
   "metadata": {},
   "outputs": [
    {
     "data": {
      "text/html": [
       "<div>\n",
       "<style scoped>\n",
       "    .dataframe tbody tr th:only-of-type {\n",
       "        vertical-align: middle;\n",
       "    }\n",
       "\n",
       "    .dataframe tbody tr th {\n",
       "        vertical-align: top;\n",
       "    }\n",
       "\n",
       "    .dataframe thead th {\n",
       "        text-align: right;\n",
       "    }\n",
       "</style>\n",
       "<table border=\"1\" class=\"dataframe\">\n",
       "  <thead>\n",
       "    <tr style=\"text-align: right;\">\n",
       "      <th></th>\n",
       "      <th>Date</th>\n",
       "      <th>Open</th>\n",
       "      <th>High</th>\n",
       "      <th>Low</th>\n",
       "      <th>Close</th>\n",
       "      <th>Volume</th>\n",
       "      <th>Time</th>\n",
       "      <th>Rank</th>\n",
       "    </tr>\n",
       "  </thead>\n",
       "  <tbody>\n",
       "    <tr>\n",
       "      <th>0</th>\n",
       "      <td>2024-01-01</td>\n",
       "      <td>642.20</td>\n",
       "      <td>642.70</td>\n",
       "      <td>641.00</td>\n",
       "      <td>641.95</td>\n",
       "      <td>89481</td>\n",
       "      <td>09:15:00</td>\n",
       "      <td>1.0</td>\n",
       "    </tr>\n",
       "    <tr>\n",
       "      <th>1</th>\n",
       "      <td>2024-01-01</td>\n",
       "      <td>641.95</td>\n",
       "      <td>642.85</td>\n",
       "      <td>641.95</td>\n",
       "      <td>642.45</td>\n",
       "      <td>48965</td>\n",
       "      <td>09:16:00</td>\n",
       "      <td>1.0</td>\n",
       "    </tr>\n",
       "    <tr>\n",
       "      <th>2</th>\n",
       "      <td>2024-01-01</td>\n",
       "      <td>642.70</td>\n",
       "      <td>644.00</td>\n",
       "      <td>642.70</td>\n",
       "      <td>643.50</td>\n",
       "      <td>65729</td>\n",
       "      <td>09:17:00</td>\n",
       "      <td>1.0</td>\n",
       "    </tr>\n",
       "    <tr>\n",
       "      <th>3</th>\n",
       "      <td>2024-01-01</td>\n",
       "      <td>643.90</td>\n",
       "      <td>644.55</td>\n",
       "      <td>643.30</td>\n",
       "      <td>643.40</td>\n",
       "      <td>47909</td>\n",
       "      <td>09:18:00</td>\n",
       "      <td>1.0</td>\n",
       "    </tr>\n",
       "    <tr>\n",
       "      <th>4</th>\n",
       "      <td>2024-01-01</td>\n",
       "      <td>643.70</td>\n",
       "      <td>644.10</td>\n",
       "      <td>643.45</td>\n",
       "      <td>643.75</td>\n",
       "      <td>27645</td>\n",
       "      <td>09:19:00</td>\n",
       "      <td>1.0</td>\n",
       "    </tr>\n",
       "    <tr>\n",
       "      <th>...</th>\n",
       "      <td>...</td>\n",
       "      <td>...</td>\n",
       "      <td>...</td>\n",
       "      <td>...</td>\n",
       "      <td>...</td>\n",
       "      <td>...</td>\n",
       "      <td>...</td>\n",
       "      <td>...</td>\n",
       "    </tr>\n",
       "    <tr>\n",
       "      <th>8245</th>\n",
       "      <td>2024-01-31</td>\n",
       "      <td>642.90</td>\n",
       "      <td>642.90</td>\n",
       "      <td>642.50</td>\n",
       "      <td>642.80</td>\n",
       "      <td>161605</td>\n",
       "      <td>15:25:00</td>\n",
       "      <td>2.0</td>\n",
       "    </tr>\n",
       "    <tr>\n",
       "      <th>8246</th>\n",
       "      <td>2024-01-31</td>\n",
       "      <td>642.90</td>\n",
       "      <td>642.95</td>\n",
       "      <td>642.50</td>\n",
       "      <td>642.90</td>\n",
       "      <td>143774</td>\n",
       "      <td>15:26:00</td>\n",
       "      <td>3.0</td>\n",
       "    </tr>\n",
       "    <tr>\n",
       "      <th>8247</th>\n",
       "      <td>2024-01-31</td>\n",
       "      <td>642.95</td>\n",
       "      <td>643.05</td>\n",
       "      <td>642.45</td>\n",
       "      <td>642.50</td>\n",
       "      <td>166278</td>\n",
       "      <td>15:27:00</td>\n",
       "      <td>1.0</td>\n",
       "    </tr>\n",
       "    <tr>\n",
       "      <th>8248</th>\n",
       "      <td>2024-01-31</td>\n",
       "      <td>642.50</td>\n",
       "      <td>642.65</td>\n",
       "      <td>641.40</td>\n",
       "      <td>641.70</td>\n",
       "      <td>138018</td>\n",
       "      <td>15:28:00</td>\n",
       "      <td>2.0</td>\n",
       "    </tr>\n",
       "    <tr>\n",
       "      <th>8249</th>\n",
       "      <td>2024-01-31</td>\n",
       "      <td>641.70</td>\n",
       "      <td>641.80</td>\n",
       "      <td>641.00</td>\n",
       "      <td>641.55</td>\n",
       "      <td>54342</td>\n",
       "      <td>15:29:00</td>\n",
       "      <td>2.0</td>\n",
       "    </tr>\n",
       "  </tbody>\n",
       "</table>\n",
       "<p>8250 rows × 8 columns</p>\n",
       "</div>"
      ],
      "text/plain": [
       "            Date    Open    High     Low   Close  Volume      Time  Rank\n",
       "0     2024-01-01  642.20  642.70  641.00  641.95   89481  09:15:00   1.0\n",
       "1     2024-01-01  641.95  642.85  641.95  642.45   48965  09:16:00   1.0\n",
       "2     2024-01-01  642.70  644.00  642.70  643.50   65729  09:17:00   1.0\n",
       "3     2024-01-01  643.90  644.55  643.30  643.40   47909  09:18:00   1.0\n",
       "4     2024-01-01  643.70  644.10  643.45  643.75   27645  09:19:00   1.0\n",
       "...          ...     ...     ...     ...     ...     ...       ...   ...\n",
       "8245  2024-01-31  642.90  642.90  642.50  642.80  161605  15:25:00   2.0\n",
       "8246  2024-01-31  642.90  642.95  642.50  642.90  143774  15:26:00   3.0\n",
       "8247  2024-01-31  642.95  643.05  642.45  642.50  166278  15:27:00   1.0\n",
       "8248  2024-01-31  642.50  642.65  641.40  641.70  138018  15:28:00   2.0\n",
       "8249  2024-01-31  641.70  641.80  641.00  641.55   54342  15:29:00   2.0\n",
       "\n",
       "[8250 rows x 8 columns]"
      ]
     },
     "execution_count": 68,
     "metadata": {},
     "output_type": "execute_result"
    }
   ],
   "source": [
    "dataset"
   ]
  },
  {
   "cell_type": "markdown",
   "id": "f171bb3c-67f4-43d8-b5dd-6282f197ac5c",
   "metadata": {},
   "source": [
    "# get th rank"
   ]
  },
  {
   "cell_type": "code",
   "execution_count": 69,
   "id": "9770983f-e3d1-492f-8135-561e324a415b",
   "metadata": {},
   "outputs": [],
   "source": [
    "# now we need fo find the rank of any point of time \n",
    "# like rank 1 means highest volume\n",
    "def get_rank(date,time):\n",
    "    input_date = pd.to_datetime(date)\n",
    "    input_time = pd.to_datetime(time, format='%H:%M:%S').time()\n",
    "    # # Filter DataFrame based on the datetime object\n",
    "    filtered_row = dataset[(dataset['Date'] == input_date) & (dataset['Time'] == input_time)]\n",
    "\n",
    "    # Extract rank from the filtered row\n",
    "    if len(filtered_row) > 0:\n",
    "        return filtered_row.iloc[0]['Rank']\n",
    "    else:\n",
    "        return \"No data found for the given date and time.\"\n",
    "\n",
    "    "
   ]
  },
  {
   "cell_type": "markdown",
   "id": "283b3f1a-748b-4dd4-8085-e65bc6883380",
   "metadata": {},
   "source": [
    "# visualize of the rank of the specific time"
   ]
  },
  {
   "cell_type": "code",
   "execution_count": 70,
   "id": "6acf1632-33d7-4dbc-a4fe-ffc647883a78",
   "metadata": {},
   "outputs": [],
   "source": [
    "def get_data(date,time):\n",
    "    # Convert date and time to datetime object\n",
    "    input_date = pd.to_datetime(date)\n",
    "    input_time = pd.to_datetime(time, format='%H:%M:%S').time()\n",
    "    # # Filter DataFrame based on the datetime object\n",
    "    filtered_row = dataset[(dataset['Date']==input_date) & (dataset['Time']== input_time)]\n",
    "    index = filtered_row.index[0]\n",
    "\n",
    "    # add the previous 5 days volume and store into the list\n",
    "    for i in range (index,-1,-1):\n",
    "        vol_list_dt = []\n",
    "        vol_list_dt.append(dataset.iloc[i,5])\n",
    "        current_row = i\n",
    "        for j in range (0,5):\n",
    "            current_row -= 375\n",
    "            if(current_row >= 0):\n",
    "                vol_list_dt.append(dataset.iloc[current_row,5])\n",
    "        return vol_list_dt"
   ]
  },
  {
   "cell_type": "code",
   "execution_count": 71,
   "id": "c0f7ad97-30c5-4b7f-b264-5a150550755a",
   "metadata": {},
   "outputs": [],
   "source": [
    "date_input = '09-01-2024'\n",
    "time_input = '15:28:00'"
   ]
  },
  {
   "cell_type": "code",
   "execution_count": 72,
   "id": "24496902-1a72-4353-aecd-96eff4d63a33",
   "metadata": {},
   "outputs": [
    {
     "name": "stdout",
     "output_type": "stream",
     "text": [
      "4.0\n"
     ]
    },
    {
     "name": "stderr",
     "output_type": "stream",
     "text": [
      "C:\\conda_tmp\\ipykernel_6324\\2884951210.py:7: FutureWarning: Comparison of Timestamp with datetime.date is deprecated in order to match the standard library behavior. In a future version these will be considered non-comparable. Use 'ts == pd.Timestamp(date)' or 'ts.date() == date' instead.\n",
      "  filtered_row = dataset[(dataset['Date'] == input_date) & (dataset['Time'] == input_time)]\n"
     ]
    }
   ],
   "source": [
    "print(get_rank(date_input, time_input))"
   ]
  },
  {
   "cell_type": "code",
   "execution_count": 73,
   "id": "1ecd3b5a-3025-4c49-b33a-5ce577d82522",
   "metadata": {},
   "outputs": [
    {
     "name": "stderr",
     "output_type": "stream",
     "text": [
      "C:\\conda_tmp\\ipykernel_6324\\2021947079.py:6: FutureWarning: Comparison of Timestamp with datetime.date is deprecated in order to match the standard library behavior. In a future version these will be considered non-comparable. Use 'ts == pd.Timestamp(date)' or 'ts.date() == date' instead.\n",
      "  filtered_row = dataset[(dataset['Date']==input_date) & (dataset['Time']== input_time)]\n"
     ]
    },
    {
     "name": "stdout",
     "output_type": "stream",
     "text": [
      "[65310, 43422, 102650, 79663, 53635, 72483]\n"
     ]
    }
   ],
   "source": [
    "get_vol = get_data(date_input, time_input)\n",
    "print(get_vol)"
   ]
  },
  {
   "cell_type": "code",
   "execution_count": 74,
   "id": "e1083df0-fd09-464f-9c5b-734a29cbf52c",
   "metadata": {},
   "outputs": [
    {
     "data": {
      "text/plain": [
       "Text(0.5, 1.0, 'Volume of Data Points')"
      ]
     },
     "execution_count": 74,
     "metadata": {},
     "output_type": "execute_result"
    },
    {
     "data": {
      "image/png": "[encoded data removed]",
      "text/plain": [
       "<Figure size 1000x600 with 1 Axes>"
      ]
     },
     "metadata": {},
     "output_type": "display_data"
    }
   ],
   "source": [
    "plt.figure(figsize=(10, 6))\n",
    "plt.bar(range(len(get_vol)), get_vol, color='skyblue')\n",
    "plt.xlabel('Day',color = 'red')\n",
    "plt.ylabel('Volume',color ='red')\n",
    "plt.title('Volume of Data Points')"
   ]
  },
  {
   "cell_type": "code",
   "execution_count": 76,
   "id": "d245caa0-7c73-4b65-bc67-ff1022a895e1",
   "metadata": {},
   "outputs": [],
   "source": [
    "dataset.to_csv('out.csv')"
   ]
  },
  {
   "cell_type": "code",
   "execution_count": null,
   "id": "d27faa3f-a53a-4903-8c22-874bed2bb75f",
   "metadata": {},
   "outputs": [],
   "source": []
  }
 ],
 "metadata": {
  "kernelspec": {
   "display_name": "Python 3 (ipykernel)",
   "language": "python",
   "name": "python3"
  },
  "language_info": {
   "codemirror_mode": {
    "name": "ipython",
    "version": 3
   },
   "file_extension": ".py",
   "mimetype": "text/x-python",
   "name": "python",
   "nbconvert_exporter": "python",
   "pygments_lexer": "ipython3",
   "version": "3.10.13"
  },
  "widgets": {
   "application/vnd.jupyter.widget-state+json": {
    "state": {},
    "version_major": 2,
    "version_minor": 0
   }
  }
 },
 "nbformat": 4,
 "nbformat_minor": 5
}
